{
 "cells": [
  {
   "cell_type": "code",
   "execution_count": 7,
   "metadata": {},
   "outputs": [],
   "source": [
    "import pandas as pd\n",
    "import numpy as np\n",
    "import gensim\n",
    "import tensorflow as tf"
   ]
  },
  {
   "cell_type": "code",
   "execution_count": 11,
   "metadata": {},
   "outputs": [],
   "source": [
    "from tensorflow import keras\n",
    "from keras.models import Sequential\n",
    "from keras.layers import Embedding"
   ]
  },
  {
   "cell_type": "code",
   "execution_count": 2,
   "metadata": {},
   "outputs": [],
   "source": [
    "from nltk.corpus import stopwords\n",
    "import nltk"
   ]
  },
  {
   "cell_type": "code",
   "execution_count": 3,
   "metadata": {},
   "outputs": [],
   "source": [
    "stopwords = set(stopwords.words('English'))"
   ]
  },
  {
   "cell_type": "code",
   "execution_count": 3,
   "metadata": {},
   "outputs": [],
   "source": [
    "google_model_path = '../../../LearnSpace/GoogleNews-vectors-negative300.bin.gz'"
   ]
  },
  {
   "cell_type": "code",
   "execution_count": 4,
   "metadata": {},
   "outputs": [],
   "source": [
    "pd.set_option('display.max_colwidth', -1)\n",
    "pd.options.display.max_rows = 999"
   ]
  },
  {
   "cell_type": "code",
   "execution_count": 5,
   "metadata": {},
   "outputs": [],
   "source": [
    "train_df = pd.read_csv('../data/sentiment-analysis-on-movie-reviews/train.tsv', sep='\\t')"
   ]
  },
  {
   "cell_type": "code",
   "execution_count": 6,
   "metadata": {},
   "outputs": [],
   "source": [
    "test_df = pd.read_csv('../data/sentiment-analysis-on-movie-reviews/test.tsv', sep='\\t')"
   ]
  },
  {
   "cell_type": "code",
   "execution_count": 7,
   "metadata": {},
   "outputs": [
    {
     "data": {
      "text/html": [
       "<div>\n",
       "<table border=\"1\" class=\"dataframe\">\n",
       "  <thead>\n",
       "    <tr style=\"text-align: right;\">\n",
       "      <th></th>\n",
       "      <th>PhraseId</th>\n",
       "      <th>SentenceId</th>\n",
       "      <th>Phrase</th>\n",
       "      <th>Sentiment</th>\n",
       "    </tr>\n",
       "  </thead>\n",
       "  <tbody>\n",
       "    <tr>\n",
       "      <th>0</th>\n",
       "      <td>1</td>\n",
       "      <td>1</td>\n",
       "      <td>A series of escapades demonstrating the adage that what is good for the goose is also good for the gander , some of which occasionally amuses but none of which amounts to much of a story .</td>\n",
       "      <td>1</td>\n",
       "    </tr>\n",
       "    <tr>\n",
       "      <th>1</th>\n",
       "      <td>2</td>\n",
       "      <td>1</td>\n",
       "      <td>A series of escapades demonstrating the adage that what is good for the goose</td>\n",
       "      <td>2</td>\n",
       "    </tr>\n",
       "    <tr>\n",
       "      <th>2</th>\n",
       "      <td>3</td>\n",
       "      <td>1</td>\n",
       "      <td>A series</td>\n",
       "      <td>2</td>\n",
       "    </tr>\n",
       "    <tr>\n",
       "      <th>3</th>\n",
       "      <td>4</td>\n",
       "      <td>1</td>\n",
       "      <td>A</td>\n",
       "      <td>2</td>\n",
       "    </tr>\n",
       "    <tr>\n",
       "      <th>4</th>\n",
       "      <td>5</td>\n",
       "      <td>1</td>\n",
       "      <td>series</td>\n",
       "      <td>2</td>\n",
       "    </tr>\n",
       "  </tbody>\n",
       "</table>\n",
       "</div>"
      ],
      "text/plain": [
       "   PhraseId  SentenceId  \\\n",
       "0  1         1            \n",
       "1  2         1            \n",
       "2  3         1            \n",
       "3  4         1            \n",
       "4  5         1            \n",
       "\n",
       "                                                                                                                                                                                         Phrase  \\\n",
       "0  A series of escapades demonstrating the adage that what is good for the goose is also good for the gander , some of which occasionally amuses but none of which amounts to much of a story .   \n",
       "1  A series of escapades demonstrating the adage that what is good for the goose                                                                                                                  \n",
       "2  A series                                                                                                                                                                                       \n",
       "3  A                                                                                                                                                                                              \n",
       "4  series                                                                                                                                                                                         \n",
       "\n",
       "   Sentiment  \n",
       "0  1          \n",
       "1  2          \n",
       "2  2          \n",
       "3  2          \n",
       "4  2          "
      ]
     },
     "execution_count": 7,
     "metadata": {},
     "output_type": "execute_result"
    }
   ],
   "source": [
    "train_df.head()"
   ]
  },
  {
   "cell_type": "code",
   "execution_count": 8,
   "metadata": {},
   "outputs": [
    {
     "data": {
      "text/html": [
       "<div>\n",
       "<table border=\"1\" class=\"dataframe\">\n",
       "  <thead>\n",
       "    <tr style=\"text-align: right;\">\n",
       "      <th></th>\n",
       "      <th>PhraseId</th>\n",
       "      <th>SentenceId</th>\n",
       "      <th>Phrase</th>\n",
       "    </tr>\n",
       "  </thead>\n",
       "  <tbody>\n",
       "    <tr>\n",
       "      <th>0</th>\n",
       "      <td>156061</td>\n",
       "      <td>8545</td>\n",
       "      <td>An intermittently pleasing but mostly routine effort .</td>\n",
       "    </tr>\n",
       "    <tr>\n",
       "      <th>1</th>\n",
       "      <td>156062</td>\n",
       "      <td>8545</td>\n",
       "      <td>An intermittently pleasing but mostly routine effort</td>\n",
       "    </tr>\n",
       "    <tr>\n",
       "      <th>2</th>\n",
       "      <td>156063</td>\n",
       "      <td>8545</td>\n",
       "      <td>An</td>\n",
       "    </tr>\n",
       "    <tr>\n",
       "      <th>3</th>\n",
       "      <td>156064</td>\n",
       "      <td>8545</td>\n",
       "      <td>intermittently pleasing but mostly routine effort</td>\n",
       "    </tr>\n",
       "    <tr>\n",
       "      <th>4</th>\n",
       "      <td>156065</td>\n",
       "      <td>8545</td>\n",
       "      <td>intermittently pleasing but mostly routine</td>\n",
       "    </tr>\n",
       "  </tbody>\n",
       "</table>\n",
       "</div>"
      ],
      "text/plain": [
       "   PhraseId  SentenceId  \\\n",
       "0  156061    8545         \n",
       "1  156062    8545         \n",
       "2  156063    8545         \n",
       "3  156064    8545         \n",
       "4  156065    8545         \n",
       "\n",
       "                                                   Phrase  \n",
       "0  An intermittently pleasing but mostly routine effort .  \n",
       "1  An intermittently pleasing but mostly routine effort    \n",
       "2  An                                                      \n",
       "3  intermittently pleasing but mostly routine effort       \n",
       "4  intermittently pleasing but mostly routine              "
      ]
     },
     "execution_count": 8,
     "metadata": {},
     "output_type": "execute_result"
    }
   ],
   "source": [
    "test_df.head()"
   ]
  },
  {
   "cell_type": "code",
   "execution_count": 9,
   "metadata": {},
   "outputs": [],
   "source": [
    "train_phrases = train_df['Phrase'].values\n",
    "train_sentiment = train_df['Sentiment'].values"
   ]
  },
  {
   "cell_type": "code",
   "execution_count": 10,
   "metadata": {},
   "outputs": [],
   "source": [
    "label_set = np.unique(train_sentiment)\n",
    "labels = len(label_set)"
   ]
  },
  {
   "cell_type": "code",
   "execution_count": 11,
   "metadata": {},
   "outputs": [
    {
     "data": {
      "text/plain": [
       "5"
      ]
     },
     "execution_count": 11,
     "metadata": {},
     "output_type": "execute_result"
    }
   ],
   "source": [
    "labels"
   ]
  },
  {
   "cell_type": "markdown",
   "metadata": {},
   "source": [
    "#### Loading the google w2v model"
   ]
  },
  {
   "cell_type": "code",
   "execution_count": 84,
   "metadata": {},
   "outputs": [],
   "source": [
    "google_w2v = gensim.models.KeyedVectors.load_word2vec_format(google_model_path, binary=True)"
   ]
  },
  {
   "cell_type": "markdown",
   "metadata": {},
   "source": [
    "#### Input a sentence"
   ]
  },
  {
   "cell_type": "code",
   "execution_count": 83,
   "metadata": {},
   "outputs": [],
   "source": [
    "test_np = np.vstack((google_w2v['hello'], google_w2v['how'], google_w2v['are'],google_w2v['you']))"
   ]
  },
  {
   "cell_type": "code",
   "execution_count": 14,
   "metadata": {},
   "outputs": [],
   "source": [
    "# keras.layers.Embedding(input_dim, output_dim, embeddings_initializer='uniform', \\\n",
    "#                       embeddings_regularizer=None, activity_regularizer=None, \\\n",
    "#                       embeddings_constraint=None, mask_zero=False, input_length=None)"
   ]
  },
  {
   "cell_type": "code",
   "execution_count": 85,
   "metadata": {},
   "outputs": [],
   "source": [
    "model = Sequential()\n",
    "model.add(Embedding(1000, 64, input_length=300))"
   ]
  },
  {
   "cell_type": "markdown",
   "metadata": {},
   "source": [
    "#### Freezing the embedding layer"
   ]
  },
  {
   "cell_type": "code",
   "execution_count": 86,
   "metadata": {},
   "outputs": [],
   "source": [
    "model.layers[0].trainable = False"
   ]
  },
  {
   "cell_type": "code",
   "execution_count": 87,
   "metadata": {},
   "outputs": [],
   "source": [
    "input_array = test_np"
   ]
  },
  {
   "cell_type": "code",
   "execution_count": 88,
   "metadata": {},
   "outputs": [],
   "source": [
    "model.compile('rmsprop', 'mse')"
   ]
  },
  {
   "cell_type": "code",
   "execution_count": 89,
   "metadata": {},
   "outputs": [],
   "source": [
    "output_array = model.predict(input_array)"
   ]
  },
  {
   "cell_type": "code",
   "execution_count": 90,
   "metadata": {},
   "outputs": [
    {
     "data": {
      "text/plain": [
       "(None, 300, 64)"
      ]
     },
     "execution_count": 90,
     "metadata": {},
     "output_type": "execute_result"
    }
   ],
   "source": [
    "model.output_shape"
   ]
  },
  {
   "cell_type": "code",
   "execution_count": 76,
   "metadata": {},
   "outputs": [
    {
     "data": {
      "text/plain": [
       "array([[[-0.03802197,  0.00150628,  0.01148349, ..., -0.01832385,\n",
       "         -0.00780642,  0.01420443],\n",
       "        [-0.03802197,  0.00150628,  0.01148349, ..., -0.01832385,\n",
       "         -0.00780642,  0.01420443],\n",
       "        [-0.03802197,  0.00150628,  0.01148349, ..., -0.01832385,\n",
       "         -0.00780642,  0.01420443],\n",
       "        ...,\n",
       "        [-0.03802197,  0.00150628,  0.01148349, ..., -0.01832385,\n",
       "         -0.00780642,  0.01420443],\n",
       "        [-0.03802197,  0.00150628,  0.01148349, ..., -0.01832385,\n",
       "         -0.00780642,  0.01420443],\n",
       "        [-0.03802197,  0.00150628,  0.01148349, ..., -0.01832385,\n",
       "         -0.00780642,  0.01420443]],\n",
       "\n",
       "       [[-0.03802197,  0.00150628,  0.01148349, ..., -0.01832385,\n",
       "         -0.00780642,  0.01420443],\n",
       "        [-0.03802197,  0.00150628,  0.01148349, ..., -0.01832385,\n",
       "         -0.00780642,  0.01420443],\n",
       "        [-0.03802197,  0.00150628,  0.01148349, ..., -0.01832385,\n",
       "         -0.00780642,  0.01420443],\n",
       "        ...,\n",
       "        [-0.03802197,  0.00150628,  0.01148349, ..., -0.01832385,\n",
       "         -0.00780642,  0.01420443],\n",
       "        [-0.03802197,  0.00150628,  0.01148349, ..., -0.01832385,\n",
       "         -0.00780642,  0.01420443],\n",
       "        [-0.03802197,  0.00150628,  0.01148349, ..., -0.01832385,\n",
       "         -0.00780642,  0.01420443]],\n",
       "\n",
       "       [[-0.03802197,  0.00150628,  0.01148349, ..., -0.01832385,\n",
       "         -0.00780642,  0.01420443],\n",
       "        [-0.03802197,  0.00150628,  0.01148349, ..., -0.01832385,\n",
       "         -0.00780642,  0.01420443],\n",
       "        [-0.03802197,  0.00150628,  0.01148349, ..., -0.01832385,\n",
       "         -0.00780642,  0.01420443],\n",
       "        ...,\n",
       "        [-0.03802197,  0.00150628,  0.01148349, ..., -0.01832385,\n",
       "         -0.00780642,  0.01420443],\n",
       "        [-0.03802197,  0.00150628,  0.01148349, ..., -0.01832385,\n",
       "         -0.00780642,  0.01420443],\n",
       "        [-0.03802197,  0.00150628,  0.01148349, ..., -0.01832385,\n",
       "         -0.00780642,  0.01420443]],\n",
       "\n",
       "       [[-0.03802197,  0.00150628,  0.01148349, ..., -0.01832385,\n",
       "         -0.00780642,  0.01420443],\n",
       "        [-0.03802197,  0.00150628,  0.01148349, ..., -0.01832385,\n",
       "         -0.00780642,  0.01420443],\n",
       "        [-0.03802197,  0.00150628,  0.01148349, ..., -0.01832385,\n",
       "         -0.00780642,  0.01420443],\n",
       "        ...,\n",
       "        [-0.03802197,  0.00150628,  0.01148349, ..., -0.01832385,\n",
       "         -0.00780642,  0.01420443],\n",
       "        [-0.03802197,  0.00150628,  0.01148349, ..., -0.01832385,\n",
       "         -0.00780642,  0.01420443],\n",
       "        [-0.03802197,  0.00150628,  0.01148349, ..., -0.01832385,\n",
       "         -0.00780642,  0.01420443]]], dtype=float32)"
      ]
     },
     "execution_count": 76,
     "metadata": {},
     "output_type": "execute_result"
    }
   ],
   "source": [
    "output_array"
   ]
  },
  {
   "cell_type": "code",
   "execution_count": 64,
   "metadata": {},
   "outputs": [],
   "source": [
    "test_np = np.vstack((google_w2v['hello'], google_w2v['hi'], google_w2v['fail'],google_w2v['what']))"
   ]
  },
  {
   "cell_type": "code",
   "execution_count": 65,
   "metadata": {},
   "outputs": [
    {
     "data": {
      "text/plain": [
       "2"
      ]
     },
     "execution_count": 65,
     "metadata": {},
     "output_type": "execute_result"
    }
   ],
   "source": [
    "test_np.ndim"
   ]
  },
  {
   "cell_type": "code",
   "execution_count": 57,
   "metadata": {},
   "outputs": [
    {
     "data": {
      "text/plain": [
       "(1200,)"
      ]
     },
     "execution_count": 57,
     "metadata": {},
     "output_type": "execute_result"
    }
   ],
   "source": [
    "test_np.shape"
   ]
  },
  {
   "cell_type": "code",
   "execution_count": 58,
   "metadata": {},
   "outputs": [
    {
     "data": {
      "text/plain": [
       "(3,)"
      ]
     },
     "execution_count": 58,
     "metadata": {},
     "output_type": "execute_result"
    }
   ],
   "source": [
    "np.array([1,2,3]).shape"
   ]
  },
  {
   "cell_type": "code",
   "execution_count": 81,
   "metadata": {},
   "outputs": [
    {
     "data": {
      "text/plain": [
       "array([[[202, 305],\n",
       "        [833, 629],\n",
       "        [865, 499],\n",
       "        [416, 526],\n",
       "        [767, 967],\n",
       "        [776, 320],\n",
       "        [785, 469],\n",
       "        [508, 550],\n",
       "        [343, 539],\n",
       "        [931, 688]],\n",
       "\n",
       "       [[540, 968],\n",
       "        [851,  91],\n",
       "        [ 37, 418],\n",
       "        [381, 121],\n",
       "        [718, 510],\n",
       "        [642, 120],\n",
       "        [231, 877],\n",
       "        [997, 526],\n",
       "        [621, 257],\n",
       "        [ 66, 100]],\n",
       "\n",
       "       [[ 56, 466],\n",
       "        [525, 142],\n",
       "        [783, 177],\n",
       "        [565, 166],\n",
       "        [389, 502],\n",
       "        [113, 254],\n",
       "        [308, 549],\n",
       "        [269, 498],\n",
       "        [954, 781],\n",
       "        [192, 448]],\n",
       "\n",
       "       [[905, 707],\n",
       "        [994, 650],\n",
       "        [208, 183],\n",
       "        [346, 761],\n",
       "        [ 14, 652],\n",
       "        [750,  67],\n",
       "        [428, 523],\n",
       "        [679, 572],\n",
       "        [525, 187],\n",
       "        [ 74, 589]],\n",
       "\n",
       "       [[553, 761],\n",
       "        [ 79, 471],\n",
       "        [561, 674],\n",
       "        [230, 862],\n",
       "        [490, 901],\n",
       "        [ 31, 561],\n",
       "        [895, 789],\n",
       "        [906, 402],\n",
       "        [321, 687],\n",
       "        [906, 733]]])"
      ]
     },
     "execution_count": 81,
     "metadata": {},
     "output_type": "execute_result"
    }
   ],
   "source": [
    "np.random.randint(1000, size=(5, 10, 2))"
   ]
  },
  {
   "cell_type": "code",
   "execution_count": null,
   "metadata": {},
   "outputs": [],
   "source": []
  }
 ],
 "metadata": {
  "kernelspec": {
   "display_name": "Python 3",
   "language": "python",
   "name": "python3"
  },
  "language_info": {
   "codemirror_mode": {
    "name": "ipython",
    "version": 3
   },
   "file_extension": ".py",
   "mimetype": "text/x-python",
   "name": "python",
   "nbconvert_exporter": "python",
   "pygments_lexer": "ipython3",
   "version": "3.6.0"
  }
 },
 "nbformat": 4,
 "nbformat_minor": 2
}
